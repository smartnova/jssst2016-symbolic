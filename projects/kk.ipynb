{
 "cells": [
  {
   "cell_type": "code",
   "execution_count": null,
   "metadata": {
    "collapsed": false,
    "hide_input": false,
    "scrolled": false,
    "slideshow": {
     "slide_type": "skip"
    }
   },
   "outputs": [],
   "source": [
    "from functools import partial\n",
    "import sys\n",
    "sys.path.insert(0, '/Users/wakita/Dropbox (smartnova)/lib/python3/sympy')\n",
    "\n",
    "import sympy as sp\n",
    "from sympy.utilities.lambdify import lambdify, lambdastr\n",
    "\n",
    "import numpy as np\n",
    "\n",
    "from scipy.optimize import minimize\n",
    "\n",
    "from nbsupport import md\n",
    "from snsympy import *"
   ]
  },
  {
   "cell_type": "markdown",
   "metadata": {
    "slideshow": {
     "slide_type": "slide"
    }
   },
   "source": [
    "# D-dimensional KK method"
   ]
  },
  {
   "cell_type": "markdown",
   "metadata": {
    "slideshow": {
     "slide_type": "slide"
    }
   },
   "source": [
    "## Dimension"
   ]
  },
  {
   "cell_type": "code",
   "execution_count": null,
   "metadata": {
    "collapsed": true,
    "slideshow": {
     "slide_type": "fragment"
    }
   },
   "outputs": [],
   "source": [
    "dim = 2\n",
    "#dim = sp.Symbol('D', integer=True)"
   ]
  },
  {
   "cell_type": "code",
   "execution_count": null,
   "metadata": {
    "collapsed": false,
    "hide_input": true,
    "scrolled": true,
    "slideshow": {
     "slide_type": "fragment"
    }
   },
   "outputs": [],
   "source": [
    "md('The math symbol $', dim, '$ represents the dimension of the visualization.  ',\n",
    "   'Normally its value is either 2 or 3 but a larger value can be given.')"
   ]
  },
  {
   "cell_type": "markdown",
   "metadata": {
    "slideshow": {
     "slide_type": "subslide"
    }
   },
   "source": [
    "## Graph\n",
    "\n",
    "Consider a graph $G = (V, E)$ that consists form $n$ vertices ($|V| = n$)."
   ]
  },
  {
   "cell_type": "code",
   "execution_count": null,
   "metadata": {
    "collapsed": true,
    "slideshow": {
     "slide_type": "fragment"
    }
   },
   "outputs": [],
   "source": [
    "n = sp.Symbol('n', integer=True)"
   ]
  },
  {
   "cell_type": "markdown",
   "metadata": {
    "slideshow": {
     "slide_type": "slide"
    }
   },
   "source": [
    "## The spring system\n",
    "\n",
    "The KK spring model assumes that every pair of vertices $(v_i, v_j)$ is connected by a spring whose natural length and strength are $L_{i, j}$ and $K_{i, j}$, respectively.\n",
    "\n",
    "KK method picks up a vertex $p$ and attempts to relocate it, while keeping other vertices stationary, trying to minimize the spring potential.  By repeating this process, the spring potential for the whole spring system is minimized.\n",
    "\n",
    "To keep things simple, we consider springs connected to a vertex $v_i \\in V$.  Let $v_j \\in P \\setminus \\{v_i\\}$ be a vertex other than $v_i$ in the graph, location function $P: (P \\setminus \\{v_i\\}) \\rightarrow R^{\\mathrm {dim}}$ denotes the location of the vertex (other than $v_i$), $p$ be the current location of $v_i$, and that $L_j$ and that $K_j$ give the natural length and the strength of the spring that connects $v_i$ and $v_j$."
   ]
  },
  {
   "cell_type": "code",
   "execution_count": null,
   "metadata": {
    "collapsed": true,
    "slideshow": {
     "slide_type": "fragment"
    }
   },
   "outputs": [],
   "source": [
    "ni = n-1\n",
    "Pi = sp.IndexedBase('P', shape=(dim, ni))\n",
    "Ki = sp.IndexedBase('K')\n",
    "Li = sp.IndexedBase('L')\n",
    "\n",
    "p = sp.IndexedBase('p')\n",
    "\n",
    "j, d = [sp.Idx(*spec) for spec in [('j', ni), ('d', dim)]]\n",
    "j_range, d_range = [(idx, idx.lower, idx.upper) for idx in [j, d]]"
   ]
  },
  {
   "cell_type": "markdown",
   "metadata": {
    "slideshow": {
     "slide_type": "subslide"
    }
   },
   "source": [
    "### Actual length of a spring that connects $v_i$ and $v_j$"
   ]
  },
  {
   "cell_type": "code",
   "execution_count": null,
   "metadata": {
    "collapsed": false,
    "slideshow": {
     "slide_type": "slide"
    }
   },
   "outputs": [],
   "source": [
    "LENGTH_J = sp.Symbol('Length_j')\n",
    "\n",
    "LengthJ = sp.sqrt(sp.Sum((p[d] - Pi[d, j]) ** 2, d_range)).doit()"
   ]
  },
  {
   "cell_type": "code",
   "execution_count": null,
   "metadata": {
    "collapsed": false,
    "hide_input": true,
    "slideshow": {
     "slide_type": "fragment"
    }
   },
   "outputs": [],
   "source": [
    "md('The length of the spring that connects $v_i$ and $v_j$ is the distance between $p$ and $q$: $$',\n",
    "   LENGTH_J, '=', LengthJ, '$$.')"
   ]
  },
  {
   "cell_type": "markdown",
   "metadata": {
    "slideshow": {
     "slide_type": "slide"
    }
   },
   "source": [
    "### Potential energy stored in the spring system"
   ]
  },
  {
   "cell_type": "code",
   "execution_count": null,
   "metadata": {
    "collapsed": false,
    "slideshow": {
     "slide_type": "fragment"
    }
   },
   "outputs": [],
   "source": [
    "POTENTIAL_J, POTENTIAL = sp.var('Potential_j, Potential')\n",
    "\n",
    "PotentialJ = Ki[j] * (LengthJ - Li[j]) ** 2\n",
    "Potential = sp.Sum(PotentialJ, j_range)"
   ]
  },
  {
   "cell_type": "code",
   "execution_count": null,
   "metadata": {
    "collapsed": false,
    "hide_input": true,
    "slideshow": {
     "slide_type": "fragment"
    }
   },
   "outputs": [],
   "source": [
    "md(r'Potential energy for the spring that connects $p \\text{ and }q$: $',\n",
    "   POTENTIAL_J, '=', Ki[j] * (LENGTH_J - Li[j]), '=', PotentialJ, '$')\n",
    "\n",
    "md('Collective potential energy of all the springs that connect to $p$: $$',\n",
    "   POTENTIAL, '=', sp.Sum(POTENTIAL_J, j_range), '=', Potential, '$$')"
   ]
  },
  {
   "cell_type": "markdown",
   "metadata": {
    "slideshow": {
     "slide_type": "slide"
    }
   },
   "source": [
    "## Code generation\n",
    "\n",
    "A python function that implements a mathematical formula is obtained by passing the formula to the `lambdify` a list of free variable names and the formula.  The python function is a lambda form that takes actual parameters that correspond to the free variables and (numerically) computes the formula.\n",
    "\n",
    "Using `lambdify`, we can easily obtain a Python function `f_potential` that computes the spring potential energy ($\\mathit {Potential}$)."
   ]
  },
  {
   "cell_type": "code",
   "execution_count": null,
   "metadata": {
    "collapsed": false,
    "slideshow": {
     "slide_type": "fragment"
    }
   },
   "outputs": [],
   "source": [
    "Params = [n, Ki, Li, Pi, p]\n",
    "\n",
    "potential_j = lambdify((*Params, j), PotentialJ, dummify=False)\n",
    "potential = lambdify(Params, Potential, dummify=False)"
   ]
  },
  {
   "cell_type": "code",
   "execution_count": null,
   "metadata": {
    "collapsed": false,
    "hide_input": true,
    "slideshow": {
     "slide_type": "fragment"
    }
   },
   "outputs": [],
   "source": [
    "md('The implementation of the math formula $', PotentialJ, '$ in Python function is the following:')\n",
    "md('```\\n', lambdastr((*Params, j), PotentialJ), '\\n```')\n",
    "\n",
    "md('The implementation of the math formula $', Potential, '$ in Python function is the following:')\n",
    "md('\\n\\n```\\n', lambdastr(Params, Potential), '\\n```')"
   ]
  },
  {
   "cell_type": "code",
   "execution_count": null,
   "metadata": {
    "collapsed": false,
    "scrolled": true,
    "slideshow": {
     "slide_type": "slide"
    }
   },
   "outputs": [],
   "source": [
    "def testcase(P, K, L, i):\n",
    "    n = P.shape[1]\n",
    "    Ki = K[:,i]\n",
    "    Li = L[:,i]\n",
    "    p  = P[:,i]\n",
    "    Pi = P.take(list(range(i)) + list(range(i+1, n)), axis=1)\n",
    "    return [n, Ki, Li, Pi, p]\n",
    "\n",
    "def testcase1():\n",
    "    P = np.eye(dim, dim+1) * 5\n",
    "    n = P.shape[1]\n",
    "    K = L = np.ones((n, n))\n",
    "    return testcase(P, K, L, dim)\n",
    "\n",
    "def test_potential():\n",
    "    md('## Tests')\n",
    "    md('### Potential test')\n",
    "    args = testcase1()\n",
    "    Pi = args[3]\n",
    "    \n",
    "    for j in range(Pi.shape[1]):\n",
    "        md('- $', POTENTIAL, '_', j, '=', potential_j(*args, j), '$')\n",
    "\n",
    "test_potential()"
   ]
  },
  {
   "cell_type": "code",
   "execution_count": null,
   "metadata": {
    "collapsed": false,
    "scrolled": false,
    "slideshow": {
     "slide_type": "slide"
    }
   },
   "outputs": [],
   "source": [
    "X = [p[i] for i in range(dim)]\n",
    "print(X)\n",
    "potential_derivatives = derivatives(Potential, X, Params)"
   ]
  },
  {
   "cell_type": "code",
   "execution_count": null,
   "metadata": {
    "collapsed": false,
    "slideshow": {
     "slide_type": "slide"
    }
   },
   "outputs": [],
   "source": [
    "from sympy import KroneckerDelta\n",
    "\n",
    "def test_derivatives():\n",
    "    md('### Derivatives test')\n",
    "\n",
    "    args = testcase1()\n",
    "    \n",
    "    md('- Potential: $', potential_derivatives[0](*args), '$')\n",
    "    md('- Gradient: $', potential_derivatives[1](*args), '$')\n",
    "    md('- Hessian: $', potential_derivatives[2](*args), '$')\n",
    "\n",
    "test_derivatives()"
   ]
  },
  {
   "cell_type": "code",
   "execution_count": null,
   "metadata": {
    "collapsed": false,
    "slideshow": {
     "slide_type": "slide"
    }
   },
   "outputs": [],
   "source": [
    "def test_minimize():\n",
    "    md('### Minimization test')\n",
    "    \n",
    "    def wrap(f):\n",
    "        return lambda xs: f(np.array(xs, dtype=np.float))\n",
    "    \n",
    "    ni, Ki, Li, Pi, p = testcase1()\n",
    "    args = [ni, Ki, Li, Pi]\n",
    "    md('$n_i:', ni, ', K_i:', Ki, ', L_i:', Li, ', P_i:', Pi, ', p:', p, '$')\n",
    "    \n",
    "    f, g, h = [wrap(partial(f, *args)) for f in potential_derivatives]\n",
    "    \n",
    "    res = minimize(f, p.tolist(), jac=lambda x: g(x).flatten(), hess=h, method='trust-ncg')\n",
    "\n",
    "    print(res)\n",
    "\n",
    "test_minimize()"
   ]
  },
  {
   "cell_type": "code",
   "execution_count": null,
   "metadata": {
    "collapsed": true
   },
   "outputs": [],
   "source": []
  }
 ],
 "metadata": {
  "celltoolbar": "Slideshow",
  "kernelspec": {
   "display_name": "Python 3",
   "language": "python",
   "name": "python3"
  },
  "language_info": {
   "codemirror_mode": {
    "name": "ipython",
    "version": 3
   },
   "file_extension": ".py",
   "mimetype": "text/x-python",
   "name": "python",
   "nbconvert_exporter": "python",
   "pygments_lexer": "ipython3",
   "version": "3.5.2"
  },
  "latex_envs": {
   "bibliofile": "biblio.bib",
   "cite_by": "apalike",
   "current_citInitial": 1,
   "eqLabelWithNumbers": true,
   "eqNumInitial": 0
  },
  "nav_menu": {},
  "toc": {
   "navigate_menu": true,
   "number_sections": true,
   "sideBar": true,
   "threshold": 6,
   "toc_cell": false,
   "toc_section_display": "block",
   "toc_window_display": false
  }
 },
 "nbformat": 4,
 "nbformat_minor": 0
}
