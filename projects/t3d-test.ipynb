{
 "cells": [
  {
   "cell_type": "code",
   "execution_count": 1,
   "metadata": {
    "collapsed": false
   },
   "outputs": [],
   "source": [
    "import sympy as sp\n",
    "from sympy.abc import x, y, z, w\n",
    "from nbsupport import md"
   ]
  },
  {
   "cell_type": "code",
   "execution_count": 2,
   "metadata": {
    "collapsed": true
   },
   "outputs": [],
   "source": [
    "def _subs(EXPR, repl):\n",
    "    return EXPR.subs(repl, simultaneous=True)\n",
    "\n",
    "VEC2 = sp.Matrix([x, y])\n",
    "VEC3 = sp.Matrix([x, y, z])\n",
    "VEC4 = sp.Matrix([x, y, z, w])\n",
    "\n",
    "def Vec2(X, Y):       return _subs(VEC2, {x: X, y: Y})\n",
    "def Vec3(X, Y, Z):    return _subs(VEC3, {x: X, y: Y, z: Z})\n",
    "def Vec4(X, Y, Z, W): return _subs(VEC4, {x: X, y: Y, z: Z, w: W})\n",
    "\n",
    "# Todo: extend the definition of Homogeneous to Matrices\n",
    "\n",
    "def Homogeneous(p, w=1):\n",
    "    return (p * w).col_join(sp.Matrix([w]))\n",
    "\n",
    "def Cartesian(h):\n",
    "    return h[0:3, -1] / h[3,0]"
   ]
  },
  {
   "cell_type": "code",
   "execution_count": 3,
   "metadata": {
    "collapsed": false
   },
   "outputs": [],
   "source": [
    "def solve_mapping(X, Y):\n",
    "    n = X.shape[0]\n",
    "    T = sp.Matrix(sp.MatrixSymbol('T', n, n))\n",
    "    elements = T.values()\n",
    "    return T.subs(sp.solve(T * X - Y, elements))\n",
    "\n",
    "bases = [[1,0,0],[0,1,0],[0,0,1],[0,0,0]]\n",
    "\n",
    "def solve_mapping2(*Y):\n",
    "    Y = Homogeneous(Vec3(*Y), w)\n",
    "    Y = sp.Matrix([Y.T.subs(list(zip([x, y, z], base))) for base in bases]).T\n",
    "    return solve_mapping(X, Y)"
   ]
  },
  {
   "cell_type": "code",
   "execution_count": 4,
   "metadata": {
    "collapsed": false
   },
   "outputs": [
    {
     "ename": "NameError",
     "evalue": "name 'X' is not defined",
     "output_type": "error",
     "traceback": [
      "\u001b[0;31m---------------------------------------------------------------------------\u001b[0m",
      "\u001b[0;31mNameError\u001b[0m                                 Traceback (most recent call last)",
      "\u001b[0;32m<ipython-input-4-2c3b6c6f2faa>\u001b[0m in \u001b[0;36m<module>\u001b[0;34m()\u001b[0m\n\u001b[1;32m      1\u001b[0m \u001b[0mscale_symbols\u001b[0m \u001b[0;34m=\u001b[0m \u001b[0msx\u001b[0m\u001b[0;34m,\u001b[0m \u001b[0msy\u001b[0m\u001b[0;34m,\u001b[0m \u001b[0msz\u001b[0m \u001b[0;34m=\u001b[0m \u001b[0msp\u001b[0m\u001b[0;34m.\u001b[0m\u001b[0mvar\u001b[0m\u001b[0;34m(\u001b[0m\u001b[0;34m's_x s_y s_z'\u001b[0m\u001b[0;34m)\u001b[0m\u001b[0;34m\u001b[0m\u001b[0m\n\u001b[0;32m----> 2\u001b[0;31m \u001b[0mSCALE\u001b[0m \u001b[0;34m=\u001b[0m \u001b[0msolve_mapping2\u001b[0m\u001b[0;34m(\u001b[0m\u001b[0msx\u001b[0m\u001b[0;34m*\u001b[0m\u001b[0mx\u001b[0m\u001b[0;34m,\u001b[0m \u001b[0msy\u001b[0m\u001b[0;34m*\u001b[0m\u001b[0my\u001b[0m\u001b[0;34m,\u001b[0m \u001b[0msz\u001b[0m\u001b[0;34m*\u001b[0m\u001b[0mz\u001b[0m\u001b[0;34m)\u001b[0m\u001b[0;34m\u001b[0m\u001b[0m\n\u001b[0m\u001b[1;32m      3\u001b[0m \u001b[0;34m\u001b[0m\u001b[0m\n\u001b[1;32m      4\u001b[0m \u001b[0mtranslate_symbols\u001b[0m \u001b[0;34m=\u001b[0m \u001b[0mtx\u001b[0m\u001b[0;34m,\u001b[0m \u001b[0mty\u001b[0m\u001b[0;34m,\u001b[0m \u001b[0mtz\u001b[0m \u001b[0;34m=\u001b[0m \u001b[0msp\u001b[0m\u001b[0;34m.\u001b[0m\u001b[0mvar\u001b[0m\u001b[0;34m(\u001b[0m\u001b[0;34m't_x t_y t_z'\u001b[0m\u001b[0;34m)\u001b[0m\u001b[0;34m\u001b[0m\u001b[0m\n\u001b[1;32m      5\u001b[0m \u001b[0mTRANSLATE\u001b[0m \u001b[0;34m=\u001b[0m \u001b[0msolve_mapping2\u001b[0m\u001b[0;34m(\u001b[0m\u001b[0mx\u001b[0m \u001b[0;34m+\u001b[0m \u001b[0mtx\u001b[0m\u001b[0;34m,\u001b[0m \u001b[0my\u001b[0m \u001b[0;34m+\u001b[0m \u001b[0mty\u001b[0m\u001b[0;34m,\u001b[0m \u001b[0mz\u001b[0m \u001b[0;34m+\u001b[0m \u001b[0mtz\u001b[0m\u001b[0;34m)\u001b[0m\u001b[0;34m\u001b[0m\u001b[0m\n",
      "\u001b[0;32m<ipython-input-3-4c64b1a2b874>\u001b[0m in \u001b[0;36msolve_mapping2\u001b[0;34m(*Y)\u001b[0m\n\u001b[1;32m     10\u001b[0m     \u001b[0mY\u001b[0m \u001b[0;34m=\u001b[0m \u001b[0mHomogeneous\u001b[0m\u001b[0;34m(\u001b[0m\u001b[0mVec3\u001b[0m\u001b[0;34m(\u001b[0m\u001b[0;34m*\u001b[0m\u001b[0mY\u001b[0m\u001b[0;34m)\u001b[0m\u001b[0;34m,\u001b[0m \u001b[0mw\u001b[0m\u001b[0;34m)\u001b[0m\u001b[0;34m\u001b[0m\u001b[0m\n\u001b[1;32m     11\u001b[0m     \u001b[0mY\u001b[0m \u001b[0;34m=\u001b[0m \u001b[0msp\u001b[0m\u001b[0;34m.\u001b[0m\u001b[0mMatrix\u001b[0m\u001b[0;34m(\u001b[0m\u001b[0;34m[\u001b[0m\u001b[0mY\u001b[0m\u001b[0;34m.\u001b[0m\u001b[0mT\u001b[0m\u001b[0;34m.\u001b[0m\u001b[0msubs\u001b[0m\u001b[0;34m(\u001b[0m\u001b[0mlist\u001b[0m\u001b[0;34m(\u001b[0m\u001b[0mzip\u001b[0m\u001b[0;34m(\u001b[0m\u001b[0;34m[\u001b[0m\u001b[0mx\u001b[0m\u001b[0;34m,\u001b[0m \u001b[0my\u001b[0m\u001b[0;34m,\u001b[0m \u001b[0mz\u001b[0m\u001b[0;34m]\u001b[0m\u001b[0;34m,\u001b[0m \u001b[0mbase\u001b[0m\u001b[0;34m)\u001b[0m\u001b[0;34m)\u001b[0m\u001b[0;34m)\u001b[0m \u001b[0;32mfor\u001b[0m \u001b[0mbase\u001b[0m \u001b[0;32min\u001b[0m \u001b[0mbases\u001b[0m\u001b[0;34m]\u001b[0m\u001b[0;34m)\u001b[0m\u001b[0;34m.\u001b[0m\u001b[0mT\u001b[0m\u001b[0;34m\u001b[0m\u001b[0m\n\u001b[0;32m---> 12\u001b[0;31m     \u001b[0;32mreturn\u001b[0m \u001b[0msolve_mapping\u001b[0m\u001b[0;34m(\u001b[0m\u001b[0mX\u001b[0m\u001b[0;34m,\u001b[0m \u001b[0mY\u001b[0m\u001b[0;34m)\u001b[0m\u001b[0;34m\u001b[0m\u001b[0m\n\u001b[0m",
      "\u001b[0;31mNameError\u001b[0m: name 'X' is not defined"
     ]
    }
   ],
   "source": [
    "scale_symbols = sx, sy, sz = sp.var('s_x s_y s_z')\n",
    "SCALE = solve_mapping2(sx*x, sy*y, sz*z)\n",
    "\n",
    "translate_symbols = tx, ty, tz = sp.var('t_x t_y t_z')\n",
    "TRANSLATE = solve_mapping2(x + tx, y + ty, z + tz)\n",
    "\n",
    "theta = sp.var(r'\\theta')\n",
    "c, s = sp.cos(theta), sp.sin(theta)\n",
    "R = sp.Matrix([[c, s], [-s, c]])\n",
    "\n",
    "RX = R * sp.Matrix([y, z])\n",
    "ROTATE_X = solve_mapping2(x, RX[0], RX[1])\n",
    "\n",
    "RY = R * sp.Matrix([z, x])\n",
    "ROTATE_Y = solve_mapping2(RY[1], y, RY[0])\n",
    "\n",
    "RZ = R * sp.Matrix([x, y])\n",
    "ROTATE_Z = solve_mapping2(RZ[0], RZ[1], z)\n",
    "\n",
    "md(r'$$\\begin {align*}',\n",
    "   'SCALE &=', SCALE, r'\\\\',\n",
    "   'TRANSLATE &=', TRANSLATE, r'\\\\',\n",
    "   'Rotate_x &=', ROTATE_X, r'\\\\',\n",
    "   'Rotate_y &=', ROTATE_Y, r'\\\\',\n",
    "   'Rotate_z &=', ROTATE_Z,\n",
    "   r'\\end {align*}$$')"
   ]
  },
  {
   "cell_type": "code",
   "execution_count": null,
   "metadata": {
    "collapsed": true
   },
   "outputs": [],
   "source": [
    "def M32(ARGS, EXPR):\n",
    "    f = sp.lambdify(ARGS, EXPR, 'numpy')\n",
    "    return lambda *args: np.array(f(*args), dtype=np.float32)\n",
    "\n",
    "def V32(ARGS, EXPR):\n",
    "    f = M32(ARGS, EXPR)\n",
    "    return lambda *args: f(*args).reshape((len(ARGS),))"
   ]
  },
  {
   "cell_type": "code",
   "execution_count": null,
   "metadata": {
    "collapsed": false
   },
   "outputs": [],
   "source": [
    "scale = M32(scale_symbols, SCALE)\n",
    "translate = M32(translate_symbols, TRANSLATE)\n",
    "rotate_x = M32([theta], ROTATE_X)\n",
    "rotate_y = M32([theta], ROTATE_Y)\n",
    "rotate_z = M32([theta], ROTATE_Z)"
   ]
  },
  {
   "cell_type": "code",
   "execution_count": null,
   "metadata": {
    "collapsed": false
   },
   "outputs": [],
   "source": [
    "LookAtVectors = [Eye, Side, Head, Forward] = [\n",
    "    sp.var('I_x I_y I_z'), sp.var('S_x S_y S_z'),\n",
    "    sp.var('H_x H_y H_z'), sp.var('F_x F_y F_z')]\n",
    "[I, S, H, F] = [sp.Matrix(3, 1, M) for M in LookAtVectors]\n",
    "\n",
    "LOOK_AT_TRANSLATE = TRANSLATE.subs({ tx: -I_x, ty: -I_y, tz: -I_z })\n",
    "# md('$$', LOOK_AT_TRANSLATE, '$$')\n",
    "# print(sp.ask(sp.Q.orthogonal(LOOK_AT_TRANSLATE)))\n",
    "INV_LOOK_AT_TRANSLATE = sp.Matrix(sp.BlockMatrix([[S, H, -F, sp.zeros(3, 1)]])).col_join(sp.Matrix([[0, 0, 0, 1]]))\n",
    "LOOK_AT_ROTATE = INV_LOOK_AT_TRANSLATE.T  # 回転行列は正規直交行列なので，逆行列は転置行列\n",
    "\n",
    "LOOK_AT = LOOK_AT_ROTATE * LOOK_AT_TRANSLATE\n",
    "md('$$LookAt = ', LOOK_AT, '$$')\n",
    "lookat = M32(Eye + Forward + Side + Head, LOOK_AT)"
   ]
  },
  {
   "cell_type": "code",
   "execution_count": null,
   "metadata": {
    "collapsed": false
   },
   "outputs": [],
   "source": [
    "M = sp.MatrixSymbol('M', 4, 4)\n",
    "sp.Matrix(M).values()"
   ]
  },
  {
   "cell_type": "code",
   "execution_count": null,
   "metadata": {
    "collapsed": true
   },
   "outputs": [],
   "source": []
  }
 ],
 "metadata": {
  "kernelspec": {
   "display_name": "Python 3",
   "language": "python",
   "name": "python3"
  },
  "language_info": {
   "codemirror_mode": {
    "name": "ipython",
    "version": 3
   },
   "file_extension": ".py",
   "mimetype": "text/x-python",
   "name": "python",
   "nbconvert_exporter": "python",
   "pygments_lexer": "ipython3",
   "version": "3.5.2"
  },
  "nav_menu": {},
  "toc": {
   "navigate_menu": true,
   "number_sections": true,
   "sideBar": true,
   "threshold": 6,
   "toc_cell": false,
   "toc_section_display": "block",
   "toc_window_display": false
  }
 },
 "nbformat": 4,
 "nbformat_minor": 0
}
