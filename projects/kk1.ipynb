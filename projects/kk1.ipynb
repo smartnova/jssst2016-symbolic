{
 "cells": [
  {
   "cell_type": "code",
   "execution_count": 1,
   "metadata": {
    "collapsed": false,
    "hide_input": true,
    "scrolled": false,
    "slideshow": {
     "slide_type": "skip"
    }
   },
   "outputs": [],
   "source": [
    "from functools import partial\n",
    "import sys\n",
    "sys.path.insert(0, '/Users/wakita/Dropbox (smartnova)/lib/python3/sympy')\n",
    "#sys.path.insert(0, '/Users/wakita/db-smartnova.bak/lib/python3/sympy')\n",
    "\n",
    "import sympy as sp\n",
    "from sympy.utilities.lambdify import lambdify, lambdastr\n",
    "\n",
    "import numpy as np\n",
    "np.seterr(all='raise')\n",
    "\n",
    "from scipy.optimize import minimize\n",
    "\n",
    "from nbsupport import md\n",
    "from snsympy import *"
   ]
  },
  {
   "cell_type": "markdown",
   "metadata": {
    "slideshow": {
     "slide_type": "slide"
    }
   },
   "source": [
    "# D-dimensional KK method"
   ]
  },
  {
   "cell_type": "markdown",
   "metadata": {
    "slideshow": {
     "slide_type": "subslide"
    }
   },
   "source": [
    "## Dimension"
   ]
  },
  {
   "cell_type": "code",
   "execution_count": 2,
   "metadata": {
    "collapsed": true,
    "slideshow": {
     "slide_type": "fragment"
    }
   },
   "outputs": [],
   "source": [
    "dim = 2"
   ]
  },
  {
   "cell_type": "markdown",
   "metadata": {},
   "source": [
    "The symbol `dim` represents the dimension of the visualization.  Normally its value is either 2 or 3 but a larger value can be given."
   ]
  },
  {
   "cell_type": "markdown",
   "metadata": {
    "slideshow": {
     "slide_type": "subslide"
    }
   },
   "source": [
    "## Graph\n",
    "\n",
    "Consider a graph $G = (V, E)$ that consists form $n$ vertices ($|V| = n$)."
   ]
  },
  {
   "cell_type": "code",
   "execution_count": 3,
   "metadata": {
    "collapsed": false,
    "slideshow": {
     "slide_type": "fragment"
    }
   },
   "outputs": [],
   "source": [
    "n = sp.Symbol('n', integer=True)"
   ]
  },
  {
   "cell_type": "markdown",
   "metadata": {
    "slideshow": {
     "slide_type": "slide"
    }
   },
   "source": [
    "## The spring system\n",
    "\n",
    "The KK spring model assumes that every pair of vertices $(v_i, v_j)$ is connected by a spring whose natural length and strength are $L_{i, j}$ and $K_{i, j}$, respectively.\n",
    "\n",
    "KK method picks up a vertex $p$ and attempts to relocate it, while keeping other vertices stationary, trying to minimize the spring potential.  By repeating this process, the spring potential for the whole spring system is minimized.\n",
    "\n",
    "To keep things simple, we consider springs connected to a vertex $v_i \\in V$.  Let $v_j \\in P \\setminus \\{v_i\\}$ be a vertex other than $v_i$ in the graph, location function $P: (P \\setminus \\{v_i\\}) \\rightarrow R^{\\mathrm {dim}}$ denotes the location of the vertex (other than $v_i$), $p$ be the current location of $v_i$, and that $L_j$ and that $K_j$ give the natural length and the strength of the spring that connects $v_i$ and $v_j$."
   ]
  },
  {
   "cell_type": "code",
   "execution_count": 4,
   "metadata": {
    "collapsed": true,
    "slideshow": {
     "slide_type": "fragment"
    }
   },
   "outputs": [],
   "source": [
    "ni = n-1\n",
    "Pi = sp.IndexedBase('P', shape=(dim, ni))\n",
    "Ki = sp.IndexedBase('K')\n",
    "Li = sp.IndexedBase('L')\n",
    "\n",
    "p = sp.IndexedBase('p')\n",
    "\n",
    "j, d = [sp.Idx(*spec) for spec in [('j', ni), ('d', dim)]]\n",
    "j_range, d_range = [(idx, idx.lower, idx.upper) for idx in [j, d]]"
   ]
  },
  {
   "cell_type": "markdown",
   "metadata": {
    "slideshow": {
     "slide_type": "fragment"
    }
   },
   "source": [
    "For convenience, we introduce a notation $q(d)$ that represents the $d$'th element of the location of $v_j$, namely $P_{d, j}$."
   ]
  },
  {
   "cell_type": "code",
   "execution_count": 5,
   "metadata": {
    "collapsed": true,
    "slideshow": {
     "slide_type": "fragment"
    }
   },
   "outputs": [],
   "source": [
    "def q(d): return Pi[d, j]"
   ]
  },
  {
   "cell_type": "markdown",
   "metadata": {
    "slideshow": {
     "slide_type": "subslide"
    }
   },
   "source": [
    "### Actual length of a spring that connects $v_i$ and $v_j$"
   ]
  },
  {
   "cell_type": "code",
   "execution_count": 6,
   "metadata": {
    "collapsed": false,
    "slideshow": {
     "slide_type": "slide"
    }
   },
   "outputs": [],
   "source": [
    "LENGTH_J = sp.Symbol('Length_j')\n",
    "\n",
    "LengthJ = sp.sqrt(sp.Sum((p[d] - q(d)) ** 2, d_range)).doit()"
   ]
  },
  {
   "cell_type": "code",
   "execution_count": 7,
   "metadata": {
    "collapsed": false,
    "hide_input": false,
    "slideshow": {
     "slide_type": "fragment"
    }
   },
   "outputs": [
    {
     "data": {
      "text/markdown": [
       "The length of the spring that connects $v_i$ and $v_j$ is the distance between $p$ and $q$: $$Length_{j}=\\sqrt{\\left(- P_{0,j} + p_{0}\\right)^{2} + \\left(- P_{1,j} + p_{1}\\right)^{2}}$$."
      ]
     },
     "metadata": {},
     "output_type": "display_data"
    }
   ],
   "source": [
    "md('The length of the spring that connects $v_i$ and $v_j$ is the distance between $p$ and $q$: $$',\n",
    "   LENGTH_J, '=', LengthJ, '$$.')"
   ]
  },
  {
   "cell_type": "markdown",
   "metadata": {
    "slideshow": {
     "slide_type": "slide"
    }
   },
   "source": [
    "### Potential energy stored in the spring system"
   ]
  },
  {
   "cell_type": "code",
   "execution_count": 8,
   "metadata": {
    "collapsed": false,
    "slideshow": {
     "slide_type": "fragment"
    }
   },
   "outputs": [],
   "source": [
    "POTENTIAL_J, POTENTIAL = sp.var('Potential_j, Potential')\n",
    "\n",
    "PotentialJ = Ki[j] * (LengthJ - Li[j]) ** 2\n",
    "Potential = sp.Sum(PotentialJ, j_range)"
   ]
  },
  {
   "cell_type": "code",
   "execution_count": 9,
   "metadata": {
    "collapsed": false,
    "hide_input": false,
    "slideshow": {
     "slide_type": "fragment"
    }
   },
   "outputs": [
    {
     "data": {
      "text/markdown": [
       "Potential energy for the spring that connects $p \\text{ and }q$: $Potential_{j}=\\left(Length_{j} - L_{j}\\right) K_{j}=\\left(\\sqrt{\\left(- P_{0,j} + p_{0}\\right)^{2} + \\left(- P_{1,j} + p_{1}\\right)^{2}} - L_{j}\\right)^{2} K_{j}$"
      ]
     },
     "metadata": {},
     "output_type": "display_data"
    },
    {
     "data": {
      "text/markdown": [
       "Collective potential energy of all the springs that connect to $p$: $$Potential=\\sum_{j=0}^{n - 2} Potential_{j}=\\sum_{j=0}^{n - 2} \\left(\\sqrt{\\left(- P_{0,j} + p_{0}\\right)^{2} + \\left(- P_{1,j} + p_{1}\\right)^{2}} - L_{j}\\right)^{2} K_{j}$$"
      ]
     },
     "metadata": {},
     "output_type": "display_data"
    }
   ],
   "source": [
    "md(r'Potential energy for the spring that connects $p \\text{ and }q$: $',\n",
    "   POTENTIAL_J, '=', Ki[j] * (LENGTH_J - Li[j]), '=', PotentialJ, '$')\n",
    "\n",
    "md('Collective potential energy of all the springs that connect to $p$: $$',\n",
    "   POTENTIAL, '=', sp.Sum(POTENTIAL_J, j_range), '=', Potential, '$$')"
   ]
  },
  {
   "cell_type": "markdown",
   "metadata": {
    "slideshow": {
     "slide_type": "slide"
    }
   },
   "source": [
    "## Code generation\n",
    "\n",
    "A python function that implements a mathematical formula is obtained by passing the formula to the `lambdify` a list of free variable names and the formula.  The python function is a lambda form that takes actual parameters that correspond to the free variables and (numerically) computes the formula.\n",
    "\n",
    "Using `lambdify`, we can easily obtain a Python function `f_potential` that computes the spring potential energy ($\\mathit {Potential}$)."
   ]
  },
  {
   "cell_type": "code",
   "execution_count": 10,
   "metadata": {
    "collapsed": false,
    "slideshow": {
     "slide_type": "fragment"
    }
   },
   "outputs": [],
   "source": [
    "Params = [n, Ki, Li, Pi, p]\n",
    "\n",
    "potential_j = lambdify((*Params, j), PotentialJ, dummify=False)\n",
    "potential = lambdify(Params, Potential, dummify=False)"
   ]
  },
  {
   "cell_type": "code",
   "execution_count": 11,
   "metadata": {
    "collapsed": false,
    "hide_input": false,
    "slideshow": {
     "slide_type": "fragment"
    }
   },
   "outputs": [
    {
     "data": {
      "text/markdown": [
       "The implementation of the math formula $\\left(\\sqrt{\\left(- P_{0,j} + p_{0}\\right)^{2} + \\left(- P_{1,j} + p_{1}\\right)^{2}} - L_{j}\\right)^{2} K_{j}$ in Python function is the following:"
      ]
     },
     "metadata": {},
     "output_type": "display_data"
    },
    {
     "data": {
      "text/markdown": [
       "```\n",
       "lambda n,K,L,P,p,j: ((sqrt((-P[0, j] + p[0])**2 + (-P[1, j] + p[1])**2) - L[j])**2*K[j])\n",
       "```"
      ]
     },
     "metadata": {},
     "output_type": "display_data"
    },
    {
     "data": {
      "text/markdown": [
       "The implementation of the math formula $\\sum_{j=0}^{n - 2} \\left(\\sqrt{\\left(- P_{0,j} + p_{0}\\right)^{2} + \\left(- P_{1,j} + p_{1}\\right)^{2}} - L_{j}\\right)^{2} K_{j}$ in Python function is the following:"
      ]
     },
     "metadata": {},
     "output_type": "display_data"
    },
    {
     "data": {
      "text/markdown": [
       "\n",
       "\n",
       "```\n",
       "lambda n,K,L,P,p: ((builtins.sum((sqrt((-P[0, j] + p[0])**2 + (-P[1, j] + p[1])**2) - L[j])**2*K[j] for j in range(0, n - 2+1))))\n",
       "```"
      ]
     },
     "metadata": {},
     "output_type": "display_data"
    }
   ],
   "source": [
    "md('The implementation of the math formula $', PotentialJ, '$ in Python function is the following:')\n",
    "md('```\\n', lambdastr((*Params, j), PotentialJ), '\\n```')\n",
    "\n",
    "md('The implementation of the math formula $', Potential, '$ in Python function is the following:')\n",
    "md('\\n\\n```\\n', lambdastr(Params, Potential), '\\n```')"
   ]
  },
  {
   "cell_type": "code",
   "execution_count": 12,
   "metadata": {
    "collapsed": false,
    "scrolled": false,
    "slideshow": {
     "slide_type": "slide"
    }
   },
   "outputs": [
    {
     "data": {
      "text/markdown": [
       "## Tests"
      ]
     },
     "metadata": {},
     "output_type": "display_data"
    },
    {
     "data": {
      "text/markdown": [
       "### Potential test"
      ]
     },
     "metadata": {},
     "output_type": "display_data"
    },
    {
     "data": {
      "text/markdown": [
       "- $Potential_0=16.0$"
      ]
     },
     "metadata": {},
     "output_type": "display_data"
    },
    {
     "data": {
      "text/markdown": [
       "- $Potential_1=16.0$"
      ]
     },
     "metadata": {},
     "output_type": "display_data"
    }
   ],
   "source": [
    "def testcase(P, K, L, i):\n",
    "    n = P.shape[1]\n",
    "    Ki = K[:,i]\n",
    "    Li = L[:,i]\n",
    "    p  = P[:,i]\n",
    "    Pi = P.take(list(range(i)) + list(range(i+1, n)), axis=1)\n",
    "    return [n, Ki, Li, Pi, p]\n",
    "\n",
    "def testcase1():\n",
    "    P = np.eye(dim, dim+1) * 5\n",
    "    n = P.shape[1]\n",
    "    K = L = np.ones((n, n))\n",
    "    return testcase(P, K, L, dim)\n",
    "\n",
    "def test_potential():\n",
    "    md('## Tests')\n",
    "    md('### Potential test')\n",
    "    args = testcase1()\n",
    "    Pi = args[3]\n",
    "    \n",
    "    for j in range(Pi.shape[1]):\n",
    "        md('- $', POTENTIAL, '_', j, '=', potential_j(*args, j), '$')\n",
    "\n",
    "test_potential()"
   ]
  },
  {
   "cell_type": "markdown",
   "metadata": {
    "slideshow": {
     "slide_type": "slide"
    }
   },
   "source": [
    "## Derivative Formulae"
   ]
  },
  {
   "cell_type": "code",
   "execution_count": 13,
   "metadata": {
    "collapsed": false,
    "scrolled": false,
    "slideshow": {
     "slide_type": "subslide"
    }
   },
   "outputs": [],
   "source": [
    "X = [p[i] for i in range(dim)]\n",
    "PotentialDerivatives, potential_derivatives = derivatives(Potential, X, Params)"
   ]
  },
  {
   "cell_type": "markdown",
   "metadata": {
    "slideshow": {
     "slide_type": "subslide"
    }
   },
   "source": [
    "### Function"
   ]
  },
  {
   "cell_type": "code",
   "execution_count": 14,
   "metadata": {
    "collapsed": false,
    "hide_input": true,
    "scrolled": true,
    "slideshow": {
     "slide_type": "subslide"
    }
   },
   "outputs": [
    {
     "data": {
      "text/markdown": [
       "$$\\sum_{j=0}^{n - 2} \\left(\\sqrt{\\left(- P_{0,j} + p_{0}\\right)^{2} + \\left(- P_{1,j} + p_{1}\\right)^{2}} - L_{j}\\right)^{2} K_{j}$$"
      ]
     },
     "metadata": {},
     "output_type": "display_data"
    }
   ],
   "source": [
    "md('$$', PotentialDerivatives[0], '$$')"
   ]
  },
  {
   "cell_type": "markdown",
   "metadata": {
    "slideshow": {
     "slide_type": "subslide"
    }
   },
   "source": [
    "### Gradient"
   ]
  },
  {
   "cell_type": "code",
   "execution_count": 15,
   "metadata": {
    "collapsed": false,
    "hide_input": true,
    "scrolled": true,
    "slideshow": {
     "slide_type": "subslide"
    }
   },
   "outputs": [
    {
     "data": {
      "text/markdown": [
       "$$\\left[\\begin{matrix}\\sum_{j=0}^{n - 2} \\frac{2 \\left(\\sqrt{\\left(- P_{0,j} + p_{0}\\right)^{2} + \\left(- P_{1,j} + p_{1}\\right)^{2}} - L_{j}\\right) \\left(- P_{0,j} + p_{0}\\right) K_{j}}{\\sqrt{\\left(- P_{0,j} + p_{0}\\right)^{2} + \\left(- P_{1,j} + p_{1}\\right)^{2}}}\\\\\\sum_{j=0}^{n - 2} \\frac{2 \\left(\\sqrt{\\left(- P_{0,j} + p_{0}\\right)^{2} + \\left(- P_{1,j} + p_{1}\\right)^{2}} - L_{j}\\right) \\left(- P_{1,j} + p_{1}\\right) K_{j}}{\\sqrt{\\left(- P_{0,j} + p_{0}\\right)^{2} + \\left(- P_{1,j} + p_{1}\\right)^{2}}}\\end{matrix}\\right]$$"
      ]
     },
     "metadata": {},
     "output_type": "display_data"
    }
   ],
   "source": [
    "md('$$', PotentialDerivatives[1], '$$')"
   ]
  },
  {
   "cell_type": "markdown",
   "metadata": {
    "slideshow": {
     "slide_type": "subslide"
    }
   },
   "source": [
    "### Hessian"
   ]
  },
  {
   "cell_type": "code",
   "execution_count": 16,
   "metadata": {
    "collapsed": false,
    "hide_input": true,
    "slideshow": {
     "slide_type": "subslide"
    }
   },
   "outputs": [
    {
     "data": {
      "text/markdown": [
       "$$\\left[\\begin{matrix}\\sum_{j=0}^{n - 2} \\left(\\frac{2 \\left(\\sqrt{\\left(- P_{0,j} + p_{0}\\right)^{2} + \\left(- P_{1,j} + p_{1}\\right)^{2}} - L_{j}\\right) K_{j}}{\\sqrt{\\left(- P_{0,j} + p_{0}\\right)^{2} + \\left(- P_{1,j} + p_{1}\\right)^{2}}} + \\frac{2 K_{j}}{\\left(\\left(- P_{0,j} + p_{0}\\right)^{2} + \\left(- P_{1,j} + p_{1}\\right)^{2}\\right)^{\\frac{3}{2}}} \\left(\\sqrt{\\left(- P_{0,j} + p_{0}\\right)^{2} + \\left(- P_{1,j} + p_{1}\\right)^{2}} - L_{j}\\right) \\left(- P_{0,j} + p_{0}\\right) \\left(P_{0,j} - p_{0}\\right) + \\frac{2 \\left(- P_{0,j} + p_{0}\\right)^{2} K_{j}}{\\left(- P_{0,j} + p_{0}\\right)^{2} + \\left(- P_{1,j} + p_{1}\\right)^{2}}\\right) & \\sum_{j=0}^{n - 2} \\left(\\frac{2 K_{j}}{\\left(\\left(- P_{0,j} + p_{0}\\right)^{2} + \\left(- P_{1,j} + p_{1}\\right)^{2}\\right)^{\\frac{3}{2}}} \\left(\\sqrt{\\left(- P_{0,j} + p_{0}\\right)^{2} + \\left(- P_{1,j} + p_{1}\\right)^{2}} - L_{j}\\right) \\left(- P_{0,j} + p_{0}\\right) \\left(P_{1,j} - p_{1}\\right) + \\frac{2 \\left(- P_{0,j} + p_{0}\\right) \\left(- P_{1,j} + p_{1}\\right) K_{j}}{\\left(- P_{0,j} + p_{0}\\right)^{2} + \\left(- P_{1,j} + p_{1}\\right)^{2}}\\right)\\\\\\sum_{j=0}^{n - 2} \\left(\\frac{2 K_{j}}{\\left(\\left(- P_{0,j} + p_{0}\\right)^{2} + \\left(- P_{1,j} + p_{1}\\right)^{2}\\right)^{\\frac{3}{2}}} \\left(\\sqrt{\\left(- P_{0,j} + p_{0}\\right)^{2} + \\left(- P_{1,j} + p_{1}\\right)^{2}} - L_{j}\\right) \\left(- P_{0,j} + p_{0}\\right) \\left(P_{1,j} - p_{1}\\right) + \\frac{2 \\left(- P_{0,j} + p_{0}\\right) \\left(- P_{1,j} + p_{1}\\right) K_{j}}{\\left(- P_{0,j} + p_{0}\\right)^{2} + \\left(- P_{1,j} + p_{1}\\right)^{2}}\\right) & \\sum_{j=0}^{n - 2} \\left(\\frac{2 \\left(\\sqrt{\\left(- P_{0,j} + p_{0}\\right)^{2} + \\left(- P_{1,j} + p_{1}\\right)^{2}} - L_{j}\\right) K_{j}}{\\sqrt{\\left(- P_{0,j} + p_{0}\\right)^{2} + \\left(- P_{1,j} + p_{1}\\right)^{2}}} + \\frac{2 K_{j}}{\\left(\\left(- P_{0,j} + p_{0}\\right)^{2} + \\left(- P_{1,j} + p_{1}\\right)^{2}\\right)^{\\frac{3}{2}}} \\left(\\sqrt{\\left(- P_{0,j} + p_{0}\\right)^{2} + \\left(- P_{1,j} + p_{1}\\right)^{2}} - L_{j}\\right) \\left(- P_{1,j} + p_{1}\\right) \\left(P_{1,j} - p_{1}\\right) + \\frac{2 \\left(- P_{1,j} + p_{1}\\right)^{2} K_{j}}{\\left(- P_{0,j} + p_{0}\\right)^{2} + \\left(- P_{1,j} + p_{1}\\right)^{2}}\\right)\\end{matrix}\\right]$$"
      ]
     },
     "metadata": {},
     "output_type": "display_data"
    }
   ],
   "source": [
    "md('$$', PotentialDerivatives[2], '$$')"
   ]
  },
  {
   "cell_type": "markdown",
   "metadata": {},
   "source": [
    "### Derivatives test"
   ]
  },
  {
   "cell_type": "code",
   "execution_count": 17,
   "metadata": {
    "collapsed": false,
    "hide_input": false,
    "slideshow": {
     "slide_type": "slide"
    }
   },
   "outputs": [
    {
     "data": {
      "text/markdown": [
       "- Potential: $32.0$"
      ]
     },
     "metadata": {},
     "output_type": "display_data"
    },
    {
     "data": {
      "text/markdown": [
       "- Gradient: $\\left[\\begin{matrix}-8.0\\\\-8.0\\end{matrix}\\right]$"
      ]
     },
     "metadata": {},
     "output_type": "display_data"
    },
    {
     "data": {
      "text/markdown": [
       "- Hessian: $\\left[\\begin{matrix}3.6 & 0.0\\\\0.0 & 3.6\\end{matrix}\\right]$"
      ]
     },
     "metadata": {},
     "output_type": "display_data"
    }
   ],
   "source": [
    "def test_derivatives():\n",
    "    args = testcase1()\n",
    "    \n",
    "    md('- Potential: $', potential_derivatives[0](*args), '$')\n",
    "    md('- Gradient: $', potential_derivatives[1](*args), '$')\n",
    "    md('- Hessian: $', potential_derivatives[2](*args), '$')\n",
    "\n",
    "test_derivatives()"
   ]
  },
  {
   "cell_type": "markdown",
   "metadata": {
    "slideshow": {
     "slide_type": "slide"
    }
   },
   "source": [
    "### Minimization test"
   ]
  },
  {
   "cell_type": "code",
   "execution_count": 18,
   "metadata": {
    "collapsed": false,
    "hide_input": false,
    "scrolled": true,
    "slideshow": {
     "slide_type": "fragment"
    }
   },
   "outputs": [
    {
     "data": {
      "text/markdown": [
       "$n_i:3, K_i:\\left[\\begin{matrix}1.0\\\\1.0\\\\1.0\\end{matrix}\\right], L_i:\\left[\\begin{matrix}1.0\\\\1.0\\\\1.0\\end{matrix}\\right], P_i:\\left[\\begin{matrix}5.0 & 0.0\\\\0.0 & 5.0\\end{matrix}\\right], p:\\left[\\begin{matrix}0.0\\\\0.0\\end{matrix}\\right]$"
      ]
     },
     "metadata": {},
     "output_type": "display_data"
    },
    {
     "name": "stdout",
     "output_type": "stream",
     "text": [
      "     fun: 12.857864376269051\n",
      "    hess: array([[ 3.43431458, -0.56568542],\n",
      "       [-0.56568542,  3.43431458]])\n",
      "     jac: array([ -6.32283648e-09,  -6.32283648e-09])\n",
      " message: 'Optimization terminated successfully.'\n",
      "    nfev: 5\n",
      "    nhev: 4\n",
      "     nit: 4\n",
      "    njev: 5\n",
      "  status: 0\n",
      " success: True\n",
      "       x: array([ 2.5,  2.5])\n"
     ]
    }
   ],
   "source": [
    "def test_minimize():\n",
    "    def wrap(f):\n",
    "        return lambda xs: f(np.array(xs, dtype=np.float))\n",
    "    \n",
    "    ni, Ki, Li, Pi, p = testcase1()\n",
    "    args = [ni, Ki, Li, Pi]\n",
    "    md('$n_i:', ni, ', K_i:', Ki, ', L_i:', Li, ', P_i:', Pi, ', p:', p, '$')\n",
    "    \n",
    "    f, g, h = [wrap(partial(f, *args)) for f in potential_derivatives]\n",
    "    \n",
    "    res = minimize(f, p.tolist(), jac=lambda x: g(x).flatten(), hess=h, method='trust-ncg')\n",
    "\n",
    "    print(res)\n",
    "\n",
    "test_minimize()"
   ]
  },
  {
   "cell_type": "code",
   "execution_count": null,
   "metadata": {
    "collapsed": true
   },
   "outputs": [],
   "source": []
  }
 ],
 "metadata": {
  "celltoolbar": "Slideshow",
  "kernelspec": {
   "display_name": "Python 3",
   "language": "python",
   "name": "python3"
  },
  "language_info": {
   "codemirror_mode": {
    "name": "ipython",
    "version": 3
   },
   "file_extension": ".py",
   "mimetype": "text/x-python",
   "name": "python",
   "nbconvert_exporter": "python",
   "pygments_lexer": "ipython3",
   "version": "3.5.1"
  },
  "latex_envs": {
   "bibliofile": "biblio.bib",
   "cite_by": "apalike",
   "current_citInitial": 1,
   "eqLabelWithNumbers": true,
   "eqNumInitial": 0
  },
  "nav_menu": {},
  "toc": {
   "navigate_menu": true,
   "number_sections": true,
   "sideBar": true,
   "threshold": 6,
   "toc_cell": false,
   "toc_section_display": "block",
   "toc_window_display": false
  }
 },
 "nbformat": 4,
 "nbformat_minor": 0
}
