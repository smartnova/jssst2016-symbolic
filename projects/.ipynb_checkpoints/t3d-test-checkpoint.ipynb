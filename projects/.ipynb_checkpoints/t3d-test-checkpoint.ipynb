{
 "cells": [
  {
   "cell_type": "code",
   "execution_count": 53,
   "metadata": {
    "collapsed": false
   },
   "outputs": [],
   "source": [
    "import sympy as sp\n",
    "from sympy.abc import x, y, z, w\n",
    "from nbsupport import md"
   ]
  },
  {
   "cell_type": "code",
   "execution_count": null,
   "metadata": {
    "collapsed": true
   },
   "outputs": [],
   "source": [
    "def _subs(EXPR, repl):\n",
    "    return EXPR.subs(repl, simultaneous=True)\n",
    "\n",
    "VEC2 = sp.Matrix([x, y])\n",
    "VEC3 = sp.Matrix([x, y, z])\n",
    "VEC4 = sp.Matrix([x, y, z, w])\n",
    "\n",
    "def Vec2(X, Y):       return _subs(VEC2, {x: X, y: Y})\n",
    "def Vec3(X, Y, Z):    return _subs(VEC3, {x: X, y: Y, z: Z})\n",
    "def Vec4(X, Y, Z, W): return _subs(VEC4, {x: X, y: Y, z: Z, w: W})\n",
    "\n",
    "# Todo: extend the definition of Homogeneous to Matrices\n",
    "\n",
    "def Homogeneous(p, w=1):\n",
    "    return (p * w).col_join(sp.Matrix([w]))\n",
    "\n",
    "def Cartesian(h):\n",
    "    return h[0:3, -1] / h[3,0]"
   ]
  },
  {
   "cell_type": "code",
   "execution_count": 60,
   "metadata": {
    "collapsed": false
   },
   "outputs": [
    {
     "data": {
      "image/png": "[encoded data removed]",
      "text/latex": [
       "$$\\left [ \\left [ 1, \\quad 0, \\quad 0\\right ], \\quad \\left [ 0, \\quad 1, \\quad 0\\right ], \\quad \\left [ 0, \\quad 0, \\quad 1\\right ], \\quad \\left [ 0, \\quad 0, \\quad 0\\right ]\\right ]$$"
      ],
      "text/plain": [
       "[[1, 0, 0], [0, 1, 0], [0, 0, 1], [0, 0, 0]]"
      ]
     },
     "execution_count": 60,
     "metadata": {},
     "output_type": "execute_result"
    }
   ],
   "source": [
    "def solve_mapping(X, Y):\n",
    "    n = X.shape[0]\n",
    "    T = sp.Matrix(sp.MatrixSymbol('T', n, n))\n",
    "    elements = T.values()\n",
    "    return T.subs(sp.solve(T * X - Y, elements))\n",
    "\n",
    "bases = [[1,0,0],[0,1,0],[0,0,1],[0,0,0]]\n",
    "\n",
    "def solve_mapping2(*Y):\n",
    "    Y = Homogeneous(Vec3(*Y), w)\n",
    "    Y = sp.Matrix([Y.T.subs(list(zip([x, y, z], base))) for base in bases]).T\n",
    "    return solve_mapping(X, Y)"
   ]
  },
  {
   "cell_type": "code",
   "execution_count": 55,
   "metadata": {
    "collapsed": false
   },
   "outputs": [
    {
     "data": {
      "text/markdown": [
       "$$\\begin {align*}SCALE &=\\left[\\begin{matrix}s_{x} & 0 & 0 & 0\\\\0 & s_{y} & 0 & 0\\\\0 & 0 & s_{z} & 0\\\\0 & 0 & 0 & 1\\end{matrix}\\right]\\\\TRANSLATE &=\\left[\\begin{matrix}1 & 0 & 0 & t_{x}\\\\0 & 1 & 0 & t_{y}\\\\0 & 0 & 1 & t_{z}\\\\0 & 0 & 0 & 1\\end{matrix}\\right]\\\\Rotate_x &=\\left[\\begin{matrix}1 & 0 & 0 & 0\\\\0 & \\cos{\\left (\\theta \\right )} & \\sin{\\left (\\theta \\right )} & 0\\\\0 & - \\sin{\\left (\\theta \\right )} & \\cos{\\left (\\theta \\right )} & 0\\\\0 & 0 & 0 & 1\\end{matrix}\\right]\\\\Rotate_y &=\\left[\\begin{matrix}\\cos{\\left (\\theta \\right )} & 0 & - \\sin{\\left (\\theta \\right )} & 0\\\\0 & 1 & 0 & 0\\\\\\sin{\\left (\\theta \\right )} & 0 & \\cos{\\left (\\theta \\right )} & 0\\\\0 & 0 & 0 & 1\\end{matrix}\\right]\\\\Rotate_z &=\\left[\\begin{matrix}\\cos{\\left (\\theta \\right )} & \\sin{\\left (\\theta \\right )} & 0 & 0\\\\- \\sin{\\left (\\theta \\right )} & \\cos{\\left (\\theta \\right )} & 0 & 0\\\\0 & 0 & 1 & 0\\\\0 & 0 & 0 & 1\\end{matrix}\\right]\\end {align*}$$"
      ]
     },
     "metadata": {},
     "output_type": "display_data"
    }
   ],
   "source": [
    "scale_symbols = sx, sy, sz = sp.var('s_x s_y s_z')\n",
    "SCALE = solve_mapping2(sx*x, sy*y, sz*z)\n",
    "\n",
    "translate_symbols = tx, ty, tz = sp.var('t_x t_y t_z')\n",
    "TRANSLATE = solve_mapping2(x + tx, y + ty, z + tz)\n",
    "\n",
    "theta = sp.var(r'\\theta')\n",
    "c, s = sp.cos(theta), sp.sin(theta)\n",
    "R = sp.Matrix([[c, s], [-s, c]])\n",
    "\n",
    "RX = R * sp.Matrix([y, z])\n",
    "ROTATE_X = solve_mapping2(x, RX[0], RX[1])\n",
    "\n",
    "RY = R * sp.Matrix([z, x])\n",
    "ROTATE_Y = solve_mapping2(RY[1], y, RY[0])\n",
    "\n",
    "RZ = R * sp.Matrix([x, y])\n",
    "ROTATE_Z = solve_mapping2(RZ[0], RZ[1], z)\n",
    "\n",
    "md(r'$$\\begin {align*}',\n",
    "   'SCALE &=', SCALE, r'\\\\',\n",
    "   'TRANSLATE &=', TRANSLATE, r'\\\\',\n",
    "   'Rotate_x &=', ROTATE_X, r'\\\\',\n",
    "   'Rotate_y &=', ROTATE_Y, r'\\\\',\n",
    "   'Rotate_z &=', ROTATE_Z,\n",
    "   r'\\end {align*}$$')"
   ]
  },
  {
   "cell_type": "code",
   "execution_count": 56,
   "metadata": {
    "collapsed": true
   },
   "outputs": [],
   "source": [
    "def M32(ARGS, EXPR):\n",
    "    f = sp.lambdify(ARGS, EXPR, 'numpy')\n",
    "    return lambda *args: np.array(f(*args), dtype=np.float32)\n",
    "\n",
    "def V32(ARGS, EXPR):\n",
    "    f = M32(ARGS, EXPR)\n",
    "    return lambda *args: f(*args).reshape((len(ARGS),))"
   ]
  },
  {
   "cell_type": "code",
   "execution_count": 57,
   "metadata": {
    "collapsed": false
   },
   "outputs": [],
   "source": [
    "scale = M32(scale_symbols, SCALE)\n",
    "translate = M32(translate_symbols, TRANSLATE)\n",
    "rotate_x = M32([theta], ROTATE_X)\n",
    "rotate_y = M32([theta], ROTATE_Y)\n",
    "rotate_z = M32([theta], ROTATE_Z)"
   ]
  },
  {
   "cell_type": "code",
   "execution_count": 58,
   "metadata": {
    "collapsed": false
   },
   "outputs": [
    {
     "data": {
      "text/markdown": [
       "$$LookAt = \\left[\\begin{matrix}S_{x} & S_{y} & S_{z} & - I_{x} S_{x} - I_{y} S_{y} - I_{z} S_{z}\\\\H_{x} & H_{y} & H_{z} & - H_{x} I_{x} - H_{y} I_{y} - H_{z} I_{z}\\\\- F_{x} & - F_{y} & - F_{z} & F_{x} I_{x} + F_{y} I_{y} + F_{z} I_{z}\\\\0 & 0 & 0 & 1\\end{matrix}\\right]$$"
      ]
     },
     "metadata": {},
     "output_type": "display_data"
    }
   ],
   "source": [
    "LookAtVectors = [Eye, Side, Head, Forward] = [\n",
    "    sp.var('I_x I_y I_z'), sp.var('S_x S_y S_z'),\n",
    "    sp.var('H_x H_y H_z'), sp.var('F_x F_y F_z')]\n",
    "[I, S, H, F] = [sp.Matrix(3, 1, M) for M in LookAtVectors]\n",
    "\n",
    "LOOK_AT_TRANSLATE = TRANSLATE.subs({ tx: -I_x, ty: -I_y, tz: -I_z })\n",
    "# md('$$', LOOK_AT_TRANSLATE, '$$')\n",
    "# print(sp.ask(sp.Q.orthogonal(LOOK_AT_TRANSLATE)))\n",
    "INV_LOOK_AT_TRANSLATE = sp.Matrix(sp.BlockMatrix([[S, H, -F, sp.zeros(3, 1)]])).col_join(sp.Matrix([[0, 0, 0, 1]]))\n",
    "LOOK_AT_ROTATE = INV_LOOK_AT_TRANSLATE.T  # 回転行列は正規直交行列なので，逆行列は転置行列\n",
    "\n",
    "LOOK_AT = LOOK_AT_ROTATE * LOOK_AT_TRANSLATE\n",
    "md('$$LookAt = ', LOOK_AT, '$$')\n",
    "lookat = M32(Eye + Forward + Side + Head, LOOK_AT)"
   ]
  },
  {
   "cell_type": "code",
   "execution_count": 59,
   "metadata": {
    "collapsed": false
   },
   "outputs": [
    {
     "data": {
      "image/png": "[encoded data removed]",
      "text/latex": [
       "$$\\left [ M_{0, 0}, \\quad M_{0, 1}, \\quad M_{0, 2}, \\quad M_{0, 3}, \\quad M_{1, 0}, \\quad M_{1, 1}, \\quad M_{1, 2}, \\quad M_{1, 3}, \\quad M_{2, 0}, \\quad M_{2, 1}, \\quad M_{2, 2}, \\quad M_{2, 3}, \\quad M_{3, 0}, \\quad M_{3, 1}, \\quad M_{3, 2}, \\quad M_{3, 3}\\right ]$$"
      ],
      "text/plain": [
       "[M₀₀, M₀₁, M₀₂, M₀₃, M₁₀, M₁₁, M₁₂, M₁₃, M₂₀, M₂₁, M₂₂, M₂₃, M₃₀, M₃₁, M₃₂, M₃\n",
       "₃]"
      ]
     },
     "execution_count": 59,
     "metadata": {},
     "output_type": "execute_result"
    }
   ],
   "source": [
    "M = sp.MatrixSymbol('M', 4, 4)\n",
    "sp.Matrix(M).values()"
   ]
  },
  {
   "cell_type": "code",
   "execution_count": null,
   "metadata": {
    "collapsed": true
   },
   "outputs": [],
   "source": []
  }
 ],
 "metadata": {
  "kernelspec": {
   "display_name": "Python 3",
   "language": "python",
   "name": "python3"
  },
  "language_info": {
   "codemirror_mode": {
    "name": "ipython",
    "version": 3
   },
   "file_extension": ".py",
   "mimetype": "text/x-python",
   "name": "python",
   "nbconvert_exporter": "python",
   "pygments_lexer": "ipython3",
   "version": "3.5.2"
  },
  "nav_menu": {},
  "toc": {
   "navigate_menu": true,
   "number_sections": true,
   "sideBar": true,
   "threshold": 6,
   "toc_cell": false,
   "toc_section_display": "block",
   "toc_window_display": false
  }
 },
 "nbformat": 4,
 "nbformat_minor": 0
}
